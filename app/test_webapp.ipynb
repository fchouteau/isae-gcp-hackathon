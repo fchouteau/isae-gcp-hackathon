{
 "cells": [
  {
   "cell_type": "markdown",
   "metadata": {},
   "source": [
    "# Notebook de test\n",
    "\n",
    "Ce notebook qui contient un script de test pour tester localement sa webapp\n",
    "\n",
    "Dans un terminal, vous pouvez faire `uvicon app:app --reload` pour lancer la webbapp FastAPI qui sert le modèle\n",
    "\n",
    "Vous pouvez ensuite dérouler / éditer à votre convenance ce notebook pour vérifier que tout se déroule bien\n",
    "\n",
    "On utilise le package https://requests.readthedocs.io/en/master/ pour effectuer des requêtes"
   ]
  },
  {
   "cell_type": "code",
   "execution_count": 6,
   "metadata": {},
   "outputs": [],
   "source": [
    "import requests\n",
    "import io\n",
    "from PIL import Image\n",
    "from pathlib import Path\n",
    "import base64"
   ]
  },
  {
   "cell_type": "code",
   "execution_count": 7,
   "metadata": {},
   "outputs": [],
   "source": [
    "url = \"http://localhost:8000/{path}\""
   ]
  },
  {
   "cell_type": "markdown",
   "metadata": {},
   "source": [
    "## Test de requêtes de bases\n",
    "\n",
    "On effectue des requêtes GET sur `/health` et `/models` pour vérifier que tout répond bien"
   ]
  },
  {
   "cell_type": "code",
   "execution_count": 9,
   "metadata": {},
   "outputs": [
    {
     "name": "stdout",
     "output_type": "stream",
     "text": [
      "TEST ALIVE PASSED\n"
     ]
    }
   ],
   "source": [
    "response = requests.get(url.format(path=\"health\"))\n",
    "\n",
    "assert response.status_code == 200\n",
    "\n",
    "print(\"TEST ALIVE PASSED\")"
   ]
  },
  {
   "cell_type": "code",
   "execution_count": 11,
   "metadata": {},
   "outputs": [
    {
     "name": "stdout",
     "output_type": "stream",
     "text": [
      "TEST MODELS PASSED\n"
     ]
    }
   ],
   "source": [
    "response = requests.get(url.format(path=\"models\"))\n",
    "\n",
    "assert response.status_code == 200\n",
    "\n",
    "response = response.json()\n",
    "\n",
    "assert response == [\"yolov5s\", \"yolov5m\", \"yolov5l\"]\n",
    "\n",
    "print(\"TEST MODELS PASSED\")"
   ]
  },
  {
   "cell_type": "markdown",
   "metadata": {},
   "source": [
    "## Requête de processing\n",
    "\n",
    "On effectue une requête de processing qui est une requête POST sur `/predict` qui contient le nom du modèle ainsi qu'une image à traiter encodée sous la forme de string (on utilise l'encodage base64)\n",
    "\n",
    "```json\n",
    "{\n",
    "    \"model\":\"yolov5s\",\n",
    "    \"image\":\"...\"\n",
    "```"
   ]
  },
  {
   "cell_type": "code",
   "execution_count": 24,
   "metadata": {},
   "outputs": [],
   "source": [
    "path = Path(\"cats.jpg\")\n",
    "\n",
    "# ouverture de l'image\n",
    "image = Image.open(path)\n",
    "\n",
    "# encodage\n",
    "with io.BytesIO() as buffer:\n",
    "    image.save(buffer, format=\"PNG\")\n",
    "    buffer: str = base64.b64encode(buffer.getvalue()).decode(\"utf-8\")\n",
    "\n",
    "    # creation de la \"payload\" de la requête\n",
    "    data = {\"model\": \"yolov5s\", \"image\": buffer}\n",
    "\n",
    "    # envoi de la requête\n",
    "    response = requests.post(url.format(path=\"predict\"), json=data)\n",
    "\n",
    "assert response.status_code == 200\n",
    "\n",
    "response = response.json()\n",
    "\n",
    "assert \"time\" in response\n",
    "\n",
    "assert \"model\" in response"
   ]
  },
  {
   "cell_type": "code",
   "execution_count": 25,
   "metadata": {},
   "outputs": [
    {
     "data": {
      "text/plain": [
       "{'detections': [{'x_min': 269,\n",
       "   'y_min': 335,\n",
       "   'x_max': 793,\n",
       "   'y_max': 884,\n",
       "   'class_name': 'cat',\n",
       "   'confidence': 0.706},\n",
       "  {'x_min': 1492,\n",
       "   'y_min': 362,\n",
       "   'x_max': 2000,\n",
       "   'y_max': 780,\n",
       "   'class_name': 'cat',\n",
       "   'confidence': 0.683},\n",
       "  {'x_min': 1553,\n",
       "   'y_min': 676,\n",
       "   'x_max': 1998,\n",
       "   'y_max': 1136,\n",
       "   'class_name': 'cat',\n",
       "   'confidence': 0.582},\n",
       "  {'x_min': 753,\n",
       "   'y_min': 222,\n",
       "   'x_max': 1085,\n",
       "   'y_max': 543,\n",
       "   'class_name': 'cat',\n",
       "   'confidence': 0.58},\n",
       "  {'x_min': 0,\n",
       "   'y_min': 365,\n",
       "   'x_max': 364,\n",
       "   'y_max': 910,\n",
       "   'class_name': 'cat',\n",
       "   'confidence': 0.575},\n",
       "  {'x_min': 1449,\n",
       "   'y_min': 118,\n",
       "   'x_max': 1787,\n",
       "   'y_max': 486,\n",
       "   'class_name': 'cat',\n",
       "   'confidence': 0.547},\n",
       "  {'x_min': 644,\n",
       "   'y_min': 411,\n",
       "   'x_max': 1190,\n",
       "   'y_max': 1078,\n",
       "   'class_name': 'cat',\n",
       "   'confidence': 0.524}],\n",
       " 'time': 0.421,\n",
       " 'model': 'yolov5s'}"
      ]
     },
     "execution_count": 25,
     "metadata": {},
     "output_type": "execute_result"
    }
   ],
   "source": [
    "response"
   ]
  }
 ],
 "metadata": {
  "kernelspec": {
   "display_name": "Python 3",
   "language": "python",
   "name": "python3"
  },
  "language_info": {
   "codemirror_mode": {
    "name": "ipython",
    "version": 3
   },
   "file_extension": ".py",
   "mimetype": "text/x-python",
   "name": "python",
   "nbconvert_exporter": "python",
   "pygments_lexer": "ipython3",
   "version": "3.8.5"
  }
 },
 "nbformat": 4,
 "nbformat_minor": 4
}
